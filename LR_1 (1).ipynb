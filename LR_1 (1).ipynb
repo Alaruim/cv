{
  "metadata": {
    "accelerator": "GPU",
    "colab": {
      "provenance": []
    },
    "kernelspec": {
      "display_name": "Python 3",
      "language": "python",
      "name": "python3"
    },
    "language_info": {
      "name": "python",
      "version": "3.10.14",
      "mimetype": "text/x-python",
      "codemirror_mode": {
        "name": "ipython",
        "version": 3
      },
      "pygments_lexer": "ipython3",
      "nbconvert_exporter": "python",
      "file_extension": ".py"
    },
    "kaggle": {
      "accelerator": "nvidiaTeslaT4",
      "dataSources": [],
      "dockerImageVersionId": 30776,
      "isInternetEnabled": true,
      "language": "python",
      "sourceType": "notebook",
      "isGpuEnabled": true
    }
  },
  "nbformat_minor": 0,
  "nbformat": 4,
  "cells": [
    {
      "cell_type": "markdown",
      "source": [
        "**Набор данных CIFAR-10**<br>\n",
        "Набор данных CIFAR-10 состоит из 60000 цветных изображений размером 32x32 в 10 классах, по 6000 изображений в классе. Имеется 50000 обучающих изображений и 10000 тестовых изображений.<br>\n",
        "\n",
        "Набор данных разделен на пять обучающих пакетов и один тестовый пакет, в каждом по 10000 изображений. Тестовый пакет содержит ровно 1000 случайно выбранных изображений из каждого класса. Обучающие пакеты содержат остальные изображения в случайном порядке, но некоторые обучающие пакеты могут содержать больше изображений из одного класса, чем из другого. Между ними обучающие пакеты содержат ровно 5000 изображений из каждого класса.\n",
        "<br>Датасет:<br>\n",
        "https://www.cs.toronto.edu/~kriz/cifar.html\n",
        "\n",
        "![image.png](attachment:fbb1aaa8-d029-4bde-881a-fe61984fca21.png)"
      ],
      "metadata": {
        "id": "ocWBJGJ7UyIc"
      }
    },
    {
      "cell_type": "code",
      "source": [
        "# импортируем библиотеки\n",
        "import torch\n",
        "import torch.nn as nn\n",
        "import torch.optim as optim\n",
        "import torch.nn.functional as F\n",
        "from torch.utils.data import DataLoader, TensorDataset\n",
        "import torchvision\n",
        "from torchvision import transforms\n",
        "import numpy as np\n",
        "import matplotlib.pyplot as plt\n",
        "\n",
        "random.seed(0)\n",
        "np.random.seed(0)\n",
        "torch.manual_seed(0)\n",
        "torch.cuda.manual_seed(0)\n",
        "torch.backends.cudnn.deterministic = True"
      ],
      "metadata": {
        "id": "85_HkTjcNZeg",
        "execution": {
          "iopub.status.busy": "2024-09-27T14:14:53.870814Z",
          "iopub.execute_input": "2024-09-27T14:14:53.871205Z",
          "iopub.status.idle": "2024-09-27T14:14:54.187665Z",
          "shell.execute_reply.started": "2024-09-27T14:14:53.871167Z",
          "shell.execute_reply": "2024-09-27T14:14:54.186863Z"
        },
        "trusted": true
      },
      "execution_count": 56,
      "outputs": []
    },
    {
      "cell_type": "code",
      "source": [
        "# Загружаем Fashion-MNIST данные с использованием torchvision\n",
        "transform = transforms.Compose([\n",
        "    transforms.ToTensor(),\n",
        "    transforms.Normalize((0.5,), (0.5,))  # Нормализация данных\n",
        "])\n",
        "\n",
        "train_dataset = torchvision.datasets.FashionMNIST(root='./data', train=True, download=True, transform=transform)\n",
        "test_dataset = torchvision.datasets.FashionMNIST(root='./data', train=False, download=True, transform=transform)"
      ],
      "metadata": {
        "id": "buWKcUqGNZeo",
        "execution": {
          "iopub.status.idle": "2024-09-27T14:07:09.753105Z",
          "shell.execute_reply.started": "2024-09-27T14:07:02.737568Z",
          "shell.execute_reply": "2024-09-27T14:07:09.752023Z"
        },
        "trusted": true
      },
      "execution_count": 57,
      "outputs": []
    },
    {
      "cell_type": "code",
      "source": [
        "# формируем датасеты для обучения, тестирования, целевые переменные\n",
        "X_train = train_dataset.data\n",
        "y_train = train_dataset.targets\n",
        "X_test = test_dataset.data\n",
        "y_test = test_dataset.targets"
      ],
      "metadata": {
        "id": "nyrpGOtPNZeq",
        "execution": {
          "iopub.status.busy": "2024-09-27T14:07:47.392723Z",
          "iopub.execute_input": "2024-09-27T14:07:47.393122Z",
          "iopub.status.idle": "2024-09-27T14:07:47.398098Z",
          "shell.execute_reply.started": "2024-09-27T14:07:47.393085Z",
          "shell.execute_reply": "2024-09-27T14:07:47.397042Z"
        },
        "trusted": true
      },
      "execution_count": 58,
      "outputs": []
    },
    {
      "cell_type": "code",
      "source": [
        "X_train.shape"
      ],
      "metadata": {
        "colab": {
          "base_uri": "https://localhost:8080/"
        },
        "id": "TINSieF48sfE",
        "outputId": "45fa8360-8e39-4c9b-ec2d-32a023da37f3",
        "execution": {
          "iopub.status.busy": "2024-09-27T13:28:14.177233Z",
          "iopub.execute_input": "2024-09-27T13:28:14.177616Z",
          "iopub.status.idle": "2024-09-27T13:28:14.184610Z",
          "shell.execute_reply.started": "2024-09-27T13:28:14.177574Z",
          "shell.execute_reply": "2024-09-27T13:28:14.183696Z"
        },
        "trusted": true
      },
      "execution_count": 59,
      "outputs": [
        {
          "output_type": "execute_result",
          "data": {
            "text/plain": [
              "torch.Size([60000, 28, 28])"
            ]
          },
          "metadata": {},
          "execution_count": 59
        }
      ]
    },
    {
      "cell_type": "code",
      "source": [
        "\n",
        "count = 0\n",
        "sample_size = 20  # Количество картинок\n",
        "rows, cols = 2, 10  # 2 ряда по 10 картинок\n",
        "\n",
        "plt.figure(figsize=(20, 10))\n",
        "\n",
        "for i in np.random.permutation(X_train.shape[0])[:sample_size]:\n",
        "    count += 1\n",
        "    plt.subplot(rows, cols, count)\n",
        "\n",
        "    # Отображаем изображение в Ч/Б формате\n",
        "    plt.imshow(X_train[i].squeeze(), cmap=\"gray\")\n",
        "\n",
        "    # Добавляем текст с меткой класса\n",
        "    plt.text(x=3, y=3, s=int(y_train[i]), fontsize=16, color='red', bbox=dict(facecolor='white', alpha=0.5))\n",
        "\n",
        "    plt.axis(\"off\")  # Убираем оси\n",
        "\n",
        "plt.tight_layout()\n",
        "plt.show()\n"
      ],
      "metadata": {
        "colab": {
          "base_uri": "https://localhost:8080/",
          "height": 546
        },
        "id": "TYr2PXk0Q-uQ",
        "outputId": "ab70889c-50ce-4391-faf1-efe6ef3280f8",
        "execution": {
          "iopub.status.busy": "2024-09-27T13:28:25.786169Z",
          "iopub.execute_input": "2024-09-27T13:28:25.786861Z",
          "iopub.status.idle": "2024-09-27T13:28:26.973624Z",
          "shell.execute_reply.started": "2024-09-27T13:28:25.786820Z",
          "shell.execute_reply": "2024-09-27T13:28:26.972678Z"
        },
        "trusted": true
      },
      "execution_count": 60,
      "outputs": [
        {
          "output_type": "display_data",
          "data": {
            "text/plain": [
              "<Figure size 2000x1000 with 20 Axes>"
            ],
            "image/png": "[encoded data removed]"
          },
          "metadata": {}
        }
      ]
    },
    {
      "cell_type": "code",
      "source": [
        "# сколько изображений в трейне и тесте\n",
        "len(y_train), len(y_test)"
      ],
      "metadata": {
        "colab": {
          "base_uri": "https://localhost:8080/"
        },
        "id": "f_TmOTWdNZet",
        "outputId": "0028a3b0-5993-426a-c501-965f3e2aef32",
        "execution": {
          "iopub.status.busy": "2024-09-27T13:28:43.348195Z",
          "iopub.execute_input": "2024-09-27T13:28:43.348868Z",
          "iopub.status.idle": "2024-09-27T13:28:43.355083Z",
          "shell.execute_reply.started": "2024-09-27T13:28:43.348827Z",
          "shell.execute_reply": "2024-09-27T13:28:43.354126Z"
        },
        "trusted": true
      },
      "execution_count": 61,
      "outputs": [
        {
          "output_type": "execute_result",
          "data": {
            "text/plain": [
              "(60000, 10000)"
            ]
          },
          "metadata": {},
          "execution_count": 61
        }
      ]
    },
    {
      "cell_type": "code",
      "source": [
        "# нарисуем, c чем мы имеем дело\n",
        "import matplotlib.pyplot as plt\n",
        "\n",
        "im_number = 100\n",
        "# вот как хранятся изображения в компьютере\n",
        "print(f\"image:\\n{X_train[im_number, :, :]}\")\n",
        "# а так их видим мы\n",
        "\n",
        "plt.imshow(X_train[im_number, :, :].squeeze(), cmap=\"gray\")\n",
        "\n",
        "plt.show()\n",
        "print(y_train[im_number])"
      ],
      "metadata": {
        "colab": {
          "base_uri": "https://localhost:8080/",
          "height": 1000
        },
        "id": "Zd-E4vIpNZe1",
        "outputId": "bc6f8027-60c3-450e-b4bc-24a91bdeb22f",
        "execution": {
          "iopub.status.busy": "2024-09-27T13:29:13.311544Z",
          "iopub.execute_input": "2024-09-27T13:29:13.312462Z",
          "iopub.status.idle": "2024-09-27T13:29:13.549030Z",
          "shell.execute_reply.started": "2024-09-27T13:29:13.312420Z",
          "shell.execute_reply": "2024-09-27T13:29:13.548106Z"
        },
        "trusted": true
      },
      "execution_count": 62,
      "outputs": [
        {
          "output_type": "stream",
          "name": "stdout",
          "text": [
            "image:\n",
            "tensor([[  0,   0,   0,   0,   0,   0,   0,   0,   0,   1,   0,   0,  18, 107,\n",
            "         119, 103,   9,   0,   0,   0,   0,   0,   0,   0,   0,   0,   0,   0],\n",
            "        [  0,   0,   0,   0,   0,   0,   0,   0,   0,   0,   0,  99, 155, 113,\n",
            "          61, 118, 173, 117,   0,   0,   3,   0,   0,   0,   0,   0,   0,   0],\n",
            "        [  0,   0,   0,   0,   0,   0,   0,   0,   1,   0, 110, 136,   0,   0,\n",
            "           0,   0,   0, 167, 159,   0,   0,   2,   0,   0,   0,   0,   0,   0],\n",
            "        [  0,   0,   0,   0,   0,   1,   0,   6,   0,  72, 147,   0,   0,   5,\n",
            "           0,   2,   0,   0, 174, 118,   0,   5,   0,   0,   0,   0,   0,   0],\n",
            "        [  0,   0,   0,   0,   0,   1,   5,   0,   0, 174,   4,   0,   4,   0,\n",
            "           0,   0,   0,   0,   0, 204,  44,   0,   4,   0,   0,   0,   0,   0],\n",
            "        [  0,   0,   0,   0,   0,   0,   8,   0, 125, 128,   0,   9,   0,   0,\n",
            "           0,   0,   0,   2,   0, 107, 152,   0,   6,   0,   0,   0,   0,   0],\n",
            "        [  0,   0,   0,   0,   0,   0,   0,   0, 184,   9,   0,   4,   0,   0,\n",
            "           0,   0,   0,   2,   0,   0, 190,   0,   0,   2,   0,   0,   0,   0],\n",
            "        [  0,   0,   0,   1,   0,   2,   0,  73, 158,   0,   0,   0,   0,   1,\n",
            "           0,   0,   0,   0,   4,   0, 157,  79,   0,   3,   1,   0,   0,   0],\n",
            "        [  0,   0,   2,   5,   1,   0,   0, 157,  98,   0,   2,   0,   0,   1,\n",
            "           0,   0,   0,   0,   5,   0, 121, 145,   0,   0,   0,   0,   0,   0],\n",
            "        [  0,   0,   0,   0,   0,   0,   0, 231,  84,   0,   2,   1,   1,   0,\n",
            "           0,   0,   0,   0,   1,   0,  92, 223,  16,   0,   7,   4,   1,   0],\n",
            "        [  0,   0,   0,   0,   0,   0,  38, 183,  81,   0,   0,   0,   2,   2,\n",
            "           1,   2,   1,   0,   1,   0, 120, 226,  57,   0,   0,   0,   0,   0],\n",
            "        [  0,   0, 173, 216, 193, 213, 183, 164, 167,  98,  16,   0,   0,   0,\n",
            "           0,   0,   0,   0,   0,   0, 107, 141, 111,  91,  90, 108,  50,   0],\n",
            "        [  0,   0, 185, 221, 217, 210, 202, 222, 200, 206, 202, 204, 109,  27,\n",
            "          12,  17,  61, 136, 180, 221, 202, 225, 208, 214, 223, 240, 162,   0],\n",
            "        [  0,   0, 183, 220, 205, 200, 193, 184, 189, 182, 173, 194, 215, 216,\n",
            "         205, 207, 207, 195, 185, 194, 194, 203, 212, 183, 193, 211, 153,   0],\n",
            "        [  0,   0, 190, 233, 203, 206, 214, 216, 195, 183, 176, 159, 175, 189,\n",
            "         202, 195, 186, 186, 182, 186, 195, 209, 235, 203, 202, 215, 136,   0],\n",
            "        [  0,   0, 180, 228, 201, 202, 188, 183, 178, 192, 186, 181, 181, 177,\n",
            "         204, 217, 175, 179, 184, 176, 166, 169, 175, 185, 152, 203, 107,   0],\n",
            "        [  0,   0, 167, 235, 200, 207, 207, 209, 207, 203, 198, 189, 182, 178,\n",
            "         186, 189, 178, 192, 197, 195, 192, 185, 184, 205, 187, 255,  61,   0],\n",
            "        [  0,   0, 152, 250, 208, 214, 209, 202, 200, 202, 205, 204, 200, 192,\n",
            "         198, 204, 195, 205, 206, 198, 199, 203, 214, 207, 179, 249,  55,   0],\n",
            "        [  0,   0, 126, 255, 211, 215, 210, 206, 203, 203, 203, 206, 204, 199,\n",
            "         206, 207, 200, 206, 201, 199, 202, 208, 215, 195, 174, 211,  15,   0],\n",
            "        [  0,   0, 107, 255, 212, 211, 210, 211, 208, 206, 206, 207, 208, 208,\n",
            "         217, 214, 205, 206, 204, 208, 211, 211, 220, 197, 182, 225,   0,   0],\n",
            "        [  0,   0,  63, 232, 211, 216, 212, 214, 212, 212, 214, 212, 211, 212,\n",
            "         223, 219, 210, 214, 213, 212, 211, 209, 217, 208, 168, 190,   0,   0],\n",
            "        [  0,   0,  14, 255, 218, 221, 215, 218, 218, 217, 215, 213, 211, 215,\n",
            "         228, 220, 216, 222, 217, 217, 216, 218, 212, 213, 189, 143,   0,   0],\n",
            "        [  0,   0,   0, 230, 227, 214, 217, 218, 216, 217, 217, 214, 216, 222,\n",
            "         226, 218, 218, 220, 219, 218, 217, 218, 217, 215, 216, 113,   0,   0],\n",
            "        [  0,   0,   0, 177, 233, 216, 223, 222, 213, 213, 215, 212, 220, 226,\n",
            "         221, 220, 221, 218, 222, 220, 220, 221, 217, 212, 219,  52,   0,   0],\n",
            "        [  0,   0,   0,  10, 223, 222, 220, 211, 213, 215, 220, 222, 226, 226,\n",
            "         221, 223, 222, 222, 221, 218, 220, 219, 220, 223, 174,   0,   0,   0],\n",
            "        [  0,   0,   0,   0, 126, 241, 208, 210, 214, 214, 216, 216, 220, 220,\n",
            "         214, 213, 212, 212, 210, 215, 217, 218, 215, 236,  42,   0,   1,   0],\n",
            "        [  0,   0,   0,   0,   0, 188, 237, 230, 233, 255, 255, 255, 255, 255,\n",
            "         255, 255, 255, 255, 255, 255, 231, 229, 239, 161,   0,   0,   0,   0],\n",
            "        [  0,   0,   0,   0,   0,   0,  63,  95, 108, 105, 100, 103, 104, 105,\n",
            "         102, 100,  98,  97,  96,  90,  80,  83,  60,   0,   0,   0,   0,   0]],\n",
            "       dtype=torch.uint8)\n"
          ]
        },
        {
          "output_type": "display_data",
          "data": {
            "text/plain": [
              "<Figure size 640x480 with 1 Axes>"
            ],
            "image/png": "[encoded data removed]"
          },
          "metadata": {}
        },
        {
          "output_type": "stream",
          "name": "stdout",
          "text": [
            "tensor(8)\n"
          ]
        }
      ]
    },
    {
      "cell_type": "code",
      "source": [
        "# ВЫВЕДЕМ КЛАССЫ ДАТАСЕТА И ИХ НАЗВАНИЯ\n",
        "train_dataset.class_to_idx"
      ],
      "metadata": {
        "execution": {
          "iopub.status.busy": "2024-09-27T13:30:38.118042Z",
          "iopub.execute_input": "2024-09-27T13:30:38.118697Z",
          "iopub.status.idle": "2024-09-27T13:30:38.124995Z",
          "shell.execute_reply.started": "2024-09-27T13:30:38.118658Z",
          "shell.execute_reply": "2024-09-27T13:30:38.124051Z"
        },
        "trusted": true,
        "colab": {
          "base_uri": "https://localhost:8080/"
        },
        "id": "DCqQ7jOMUyIg",
        "outputId": "83f326c7-82ed-4de8-df84-3266cd5dafff"
      },
      "execution_count": 63,
      "outputs": [
        {
          "output_type": "execute_result",
          "data": {
            "text/plain": [
              "{'T-shirt/top': 0,\n",
              " 'Trouser': 1,\n",
              " 'Pullover': 2,\n",
              " 'Dress': 3,\n",
              " 'Coat': 4,\n",
              " 'Sandal': 5,\n",
              " 'Shirt': 6,\n",
              " 'Sneaker': 7,\n",
              " 'Bag': 8,\n",
              " 'Ankle boot': 9}"
            ]
          },
          "metadata": {},
          "execution_count": 63
        }
      ]
    },
    {
      "cell_type": "code",
      "source": [
        "# посмотртим тип \"картинок\"\n",
        "type(X_train[10, :, :]), type(y_train)"
      ],
      "metadata": {
        "colab": {
          "base_uri": "https://localhost:8080/"
        },
        "id": "vxHNnvBjQ-uS",
        "outputId": "811fde2d-d1c1-429b-c07b-4163e5491d12",
        "execution": {
          "iopub.status.busy": "2024-09-27T13:30:46.896737Z",
          "iopub.execute_input": "2024-09-27T13:30:46.897769Z",
          "iopub.status.idle": "2024-09-27T13:30:46.903746Z",
          "shell.execute_reply.started": "2024-09-27T13:30:46.897724Z",
          "shell.execute_reply": "2024-09-27T13:30:46.902775Z"
        },
        "trusted": true
      },
      "execution_count": 64,
      "outputs": [
        {
          "output_type": "execute_result",
          "data": {
            "text/plain": [
              "(torch.Tensor, torch.Tensor)"
            ]
          },
          "metadata": {},
          "execution_count": 64
        }
      ]
    },
    {
      "cell_type": "code",
      "source": [
        "# ПОСМОТРИМ НА ОСИ ТЕНЗОРА, ЧТОБЫ ПОНИМАТЬ СМОЖЕТ ЛИ СЕТЬ ИХ ПРИНЯТЬ ИЛИ НУЖНО МЕНЯТЬ\n",
        "X_train.shape, X_test.shape"
      ],
      "metadata": {
        "colab": {
          "base_uri": "https://localhost:8080/"
        },
        "id": "VyB3OQE3Q-uS",
        "outputId": "d18ce628-fa82-4f42-9759-a5801bc6ec6b",
        "execution": {
          "iopub.status.busy": "2024-09-27T13:37:13.595047Z",
          "iopub.execute_input": "2024-09-27T13:37:13.595458Z",
          "iopub.status.idle": "2024-09-27T13:37:13.602346Z",
          "shell.execute_reply.started": "2024-09-27T13:37:13.595418Z",
          "shell.execute_reply": "2024-09-27T13:37:13.601266Z"
        },
        "trusted": true
      },
      "execution_count": 65,
      "outputs": [
        {
          "output_type": "execute_result",
          "data": {
            "text/plain": [
              "(torch.Size([60000, 28, 28]), torch.Size([10000, 28, 28]))"
            ]
          },
          "metadata": {},
          "execution_count": 65
        }
      ]
    },
    {
      "cell_type": "code",
      "source": [
        "# Проверим устройство для тренировки (GPU или CPU)\n",
        "device = torch.device('cuda:0' if torch.cuda.is_available() else 'cpu')\n",
        "\n",
        "\n",
        "\n",
        "# Создаем DataLoader для тренировочных и тестовых данных\n",
        "batch_size = 64\n",
        "train_loader = DataLoader(train_dataset, batch_size=batch_size, shuffle=True)\n",
        "test_loader = DataLoader(test_dataset, batch_size=batch_size, shuffle=False)\n",
        "\n",
        "# Простая архитектура CNN для обучения\n",
        "class SimpleCNN(nn.Module):\n",
        "    def __init__(self):\n",
        "        super(SimpleCNN, self).__init__()\n",
        "        self.conv1 = nn.Conv2d(1, 32, kernel_size=3, padding=1)\n",
        "        self.pool = nn.MaxPool2d(2, 2)\n",
        "        self.fc1 = nn.Linear(14 * 14 * 32, 10)\n",
        "\n",
        "    def forward(self, x):\n",
        "        x = F.relu(self.conv1(x))\n",
        "        x = self.pool(x)\n",
        "        x = x.view(-1, 14 * 14 * 32)\n",
        "        x = self.fc1(x)\n",
        "        return x\n",
        "\n",
        "# Создаем модель и отправляем на устройство\n",
        "model = SimpleCNN().to(device)"
      ],
      "metadata": {
        "id": "xhsw9soDODel",
        "execution": {
          "iopub.status.busy": "2024-09-27T14:07:59.845268Z",
          "iopub.execute_input": "2024-09-27T14:07:59.845651Z",
          "iopub.status.idle": "2024-09-27T14:07:59.865998Z",
          "shell.execute_reply.started": "2024-09-27T14:07:59.845611Z",
          "shell.execute_reply": "2024-09-27T14:07:59.865139Z"
        },
        "trusted": true
      },
      "execution_count": 66,
      "outputs": []
    },
    {
      "cell_type": "code",
      "source": [
        "# Оптимизатор и функция потерь\n",
        "optimizer = optim.Adam(model.parameters(), lr=0.001)\n",
        "loss_fn = nn.CrossEntropyLoss()\n",
        "\n",
        "# История для анализа\n",
        "train_loss_history = []\n",
        "test_accuracy_history = []\n",
        "test_loss_history = []\n",
        "\n",
        "# Обучение модели\n",
        "for epoch in range(50):  # 50 эпох\n",
        "    model.train()\n",
        "    running_loss = 0.0\n",
        "    for X_batch, y_batch in train_loader:\n",
        "        optimizer.zero_grad()\n",
        "\n",
        "        X_batch, y_batch = X_batch.to(device), y_batch.to(device)\n",
        "\n",
        "        # Прогоняем данные через модель\n",
        "        preds = model(X_batch)\n",
        "\n",
        "        # Считаем лосс\n",
        "        loss_value = loss_fn(preds, y_batch)\n",
        "        loss_value.backward()\n",
        "        optimizer.step()\n",
        "\n",
        "        running_loss += loss_value.item()\n",
        "\n",
        "    # Оценка на тестовой выборке\n",
        "    model.eval()\n",
        "    test_loss = 0.0\n",
        "    correct = 0\n",
        "    total = 0\n",
        "    with torch.no_grad():\n",
        "        for X_batch, y_batch in test_loader:\n",
        "            X_batch, y_batch = X_batch.to(device), y_batch.to(device)\n",
        "\n",
        "            # Получаем прогнозы\n",
        "            test_preds = model(X_batch)\n",
        "            test_loss += loss_fn(test_preds, y_batch).item()\n",
        "\n",
        "            # Подсчитываем точность\n",
        "            _, predicted = torch.max(test_preds, 1)\n",
        "            total += y_batch.size(0)\n",
        "            correct += (predicted == y_batch).sum().item()\n",
        "\n",
        "    # Сохраняем данные для анализа\n",
        "    avg_train_loss = running_loss / len(train_loader)\n",
        "    avg_test_loss = test_loss / len(test_loader)\n",
        "    accuracy = correct / total\n",
        "\n",
        "    train_loss_history.append(avg_train_loss)\n",
        "    test_loss_history.append(avg_test_loss)\n",
        "    test_accuracy_history.append(accuracy)\n",
        "\n",
        "    # Выводим результаты\n",
        "    print(f\"Epoch {epoch+1} - Train Loss: {avg_train_loss:.4f} - Test Accuracy: {accuracy:.4f} - Test Loss: {avg_test_loss:.4f}\")"
      ],
      "metadata": {
        "id": "snY92NncQ-uV",
        "execution": {
          "iopub.status.busy": "2024-09-27T14:08:06.411764Z",
          "iopub.execute_input": "2024-09-27T14:08:06.412547Z",
          "iopub.status.idle": "2024-09-27T14:11:29.390978Z",
          "shell.execute_reply.started": "2024-09-27T14:08:06.412506Z",
          "shell.execute_reply": "2024-09-27T14:11:29.390019Z"
        },
        "trusted": true,
        "colab": {
          "base_uri": "https://localhost:8080/"
        },
        "outputId": "0c4f7dcb-c0e5-4609-a190-938809028081"
      },
      "execution_count": 67,
      "outputs": [
        {
          "output_type": "stream",
          "name": "stdout",
          "text": [
            "Epoch 1 - Train Loss: 0.4159 - Test Accuracy: 0.8800 - Test Loss: 0.3364\n",
            "Epoch 2 - Train Loss: 0.2974 - Test Accuracy: 0.8899 - Test Loss: 0.3123\n",
            "Epoch 3 - Train Loss: 0.2647 - Test Accuracy: 0.8928 - Test Loss: 0.2943\n",
            "Epoch 4 - Train Loss: 0.2412 - Test Accuracy: 0.8990 - Test Loss: 0.2844\n",
            "Epoch 5 - Train Loss: 0.2258 - Test Accuracy: 0.9006 - Test Loss: 0.2854\n",
            "Epoch 6 - Train Loss: 0.2122 - Test Accuracy: 0.9010 - Test Loss: 0.2829\n",
            "Epoch 7 - Train Loss: 0.1984 - Test Accuracy: 0.9063 - Test Loss: 0.2727\n",
            "Epoch 8 - Train Loss: 0.1873 - Test Accuracy: 0.9060 - Test Loss: 0.2731\n",
            "Epoch 9 - Train Loss: 0.1768 - Test Accuracy: 0.9022 - Test Loss: 0.2852\n",
            "Epoch 10 - Train Loss: 0.1709 - Test Accuracy: 0.9062 - Test Loss: 0.2775\n",
            "Epoch 11 - Train Loss: 0.1607 - Test Accuracy: 0.9054 - Test Loss: 0.2738\n",
            "Epoch 12 - Train Loss: 0.1573 - Test Accuracy: 0.9106 - Test Loss: 0.2697\n",
            "Epoch 13 - Train Loss: 0.1483 - Test Accuracy: 0.9066 - Test Loss: 0.2763\n",
            "Epoch 14 - Train Loss: 0.1404 - Test Accuracy: 0.9092 - Test Loss: 0.2771\n",
            "Epoch 15 - Train Loss: 0.1387 - Test Accuracy: 0.9041 - Test Loss: 0.2964\n",
            "Epoch 16 - Train Loss: 0.1322 - Test Accuracy: 0.9076 - Test Loss: 0.2875\n",
            "Epoch 17 - Train Loss: 0.1279 - Test Accuracy: 0.9054 - Test Loss: 0.3050\n",
            "Epoch 18 - Train Loss: 0.1236 - Test Accuracy: 0.9088 - Test Loss: 0.2907\n",
            "Epoch 19 - Train Loss: 0.1198 - Test Accuracy: 0.9061 - Test Loss: 0.3122\n",
            "Epoch 20 - Train Loss: 0.1156 - Test Accuracy: 0.9052 - Test Loss: 0.3114\n",
            "Epoch 21 - Train Loss: 0.1129 - Test Accuracy: 0.9064 - Test Loss: 0.3146\n",
            "Epoch 22 - Train Loss: 0.1084 - Test Accuracy: 0.9053 - Test Loss: 0.3125\n",
            "Epoch 23 - Train Loss: 0.1057 - Test Accuracy: 0.9086 - Test Loss: 0.3110\n",
            "Epoch 24 - Train Loss: 0.1017 - Test Accuracy: 0.9028 - Test Loss: 0.3377\n",
            "Epoch 25 - Train Loss: 0.0985 - Test Accuracy: 0.9078 - Test Loss: 0.3344\n",
            "Epoch 26 - Train Loss: 0.0944 - Test Accuracy: 0.9000 - Test Loss: 0.3620\n",
            "Epoch 27 - Train Loss: 0.0926 - Test Accuracy: 0.9044 - Test Loss: 0.3510\n",
            "Epoch 28 - Train Loss: 0.0889 - Test Accuracy: 0.9055 - Test Loss: 0.3469\n",
            "Epoch 29 - Train Loss: 0.0880 - Test Accuracy: 0.8988 - Test Loss: 0.3682\n",
            "Epoch 30 - Train Loss: 0.0861 - Test Accuracy: 0.9059 - Test Loss: 0.3527\n",
            "Epoch 31 - Train Loss: 0.0844 - Test Accuracy: 0.9062 - Test Loss: 0.3602\n",
            "Epoch 32 - Train Loss: 0.0821 - Test Accuracy: 0.9036 - Test Loss: 0.3764\n",
            "Epoch 33 - Train Loss: 0.0780 - Test Accuracy: 0.9011 - Test Loss: 0.3827\n",
            "Epoch 34 - Train Loss: 0.0803 - Test Accuracy: 0.9046 - Test Loss: 0.3755\n",
            "Epoch 35 - Train Loss: 0.0758 - Test Accuracy: 0.9018 - Test Loss: 0.3890\n",
            "Epoch 36 - Train Loss: 0.0765 - Test Accuracy: 0.9039 - Test Loss: 0.3884\n",
            "Epoch 37 - Train Loss: 0.0719 - Test Accuracy: 0.9026 - Test Loss: 0.3977\n",
            "Epoch 38 - Train Loss: 0.0706 - Test Accuracy: 0.9045 - Test Loss: 0.3897\n",
            "Epoch 39 - Train Loss: 0.0697 - Test Accuracy: 0.9014 - Test Loss: 0.4205\n",
            "Epoch 40 - Train Loss: 0.0694 - Test Accuracy: 0.9073 - Test Loss: 0.3907\n",
            "Epoch 41 - Train Loss: 0.0661 - Test Accuracy: 0.9043 - Test Loss: 0.4132\n",
            "Epoch 42 - Train Loss: 0.0643 - Test Accuracy: 0.9042 - Test Loss: 0.4128\n",
            "Epoch 43 - Train Loss: 0.0639 - Test Accuracy: 0.9031 - Test Loss: 0.4233\n",
            "Epoch 44 - Train Loss: 0.0633 - Test Accuracy: 0.9033 - Test Loss: 0.4215\n",
            "Epoch 45 - Train Loss: 0.0614 - Test Accuracy: 0.9026 - Test Loss: 0.4503\n",
            "Epoch 46 - Train Loss: 0.0606 - Test Accuracy: 0.9041 - Test Loss: 0.4356\n",
            "Epoch 47 - Train Loss: 0.0566 - Test Accuracy: 0.9034 - Test Loss: 0.4505\n",
            "Epoch 48 - Train Loss: 0.0570 - Test Accuracy: 0.9040 - Test Loss: 0.4387\n",
            "Epoch 49 - Train Loss: 0.0574 - Test Accuracy: 0.9049 - Test Loss: 0.4436\n",
            "Epoch 50 - Train Loss: 0.0552 - Test Accuracy: 0.9042 - Test Loss: 0.4588\n"
          ]
        }
      ]
    },
    {
      "cell_type": "code",
      "source": [
        "# Пример вывода графиков потерь и точности\n",
        "plt.figure(figsize=(30, 5))\n",
        "\n",
        "# График потерь\n",
        "plt.subplot(1, 2, 1)\n",
        "plt.plot(train_loss_history, label='Train Loss')\n",
        "plt.plot(test_loss_history, label='Test Loss')\n",
        "plt.xlabel('Epoch')\n",
        "plt.ylabel('Loss')\n",
        "plt.legend()\n",
        "plt.show()"
      ],
      "metadata": {
        "colab": {
          "base_uri": "https://localhost:8080/",
          "height": 465
        },
        "id": "4FDtagQvNZfU",
        "outputId": "b366f097-2331-4f15-9f6b-8e7b15937fa4",
        "execution": {
          "iopub.status.busy": "2024-09-27T14:12:40.764129Z",
          "iopub.execute_input": "2024-09-27T14:12:40.764505Z",
          "iopub.status.idle": "2024-09-27T14:12:41.053684Z",
          "shell.execute_reply.started": "2024-09-27T14:12:40.764463Z",
          "shell.execute_reply": "2024-09-27T14:12:41.052644Z"
        },
        "trusted": true
      },
      "execution_count": 68,
      "outputs": [
        {
          "output_type": "display_data",
          "data": {
            "text/plain": [
              "<Figure size 3000x500 with 1 Axes>"
            ],
            "image/png": "[encoded data removed]"
          },
          "metadata": {}
        }
      ]
    },
    {
      "cell_type": "code",
      "source": [
        "plt.figure(figsize=(30, 5))\n",
        "\n",
        "# График точности\n",
        "plt.subplot(1, 2, 2)\n",
        "plt.plot(test_accuracy_history, label='Test Accuracy')\n",
        "plt.xlabel('Epoch')\n",
        "plt.ylabel('Accuracy')\n",
        "plt.legend()\n",
        "\n",
        "plt.show()\n",
        "\n"
      ],
      "metadata": {
        "colab": {
          "base_uri": "https://localhost:8080/",
          "height": 465
        },
        "id": "V2ojfsfKQ-uW",
        "outputId": "958cf8f6-06ed-4098-dbef-b926227eb46e",
        "execution": {
          "iopub.status.busy": "2024-09-27T14:12:48.167147Z",
          "iopub.execute_input": "2024-09-27T14:12:48.167892Z",
          "iopub.status.idle": "2024-09-27T14:12:48.408867Z",
          "shell.execute_reply.started": "2024-09-27T14:12:48.167852Z",
          "shell.execute_reply": "2024-09-27T14:12:48.408000Z"
        },
        "trusted": true
      },
      "execution_count": 69,
      "outputs": [
        {
          "output_type": "display_data",
          "data": {
            "text/plain": [
              "<Figure size 3000x500 with 1 Axes>"
            ],
            "image/png": "[encoded data removed]"
          },
          "metadata": {}
        }
      ]
    },
    {
      "cell_type": "markdown",
      "source": [
        "# Сохранение и использование модели"
      ],
      "metadata": {
        "id": "HFNW1CLWQ-uX"
      }
    },
    {
      "cell_type": "code",
      "source": [
        "# смотрим размер тензора - изображения\n",
        "timg.size()"
      ],
      "metadata": {
        "id": "kAZVIDPCQ-uX",
        "outputId": "0efe7541-67eb-4397-d2a5-0e65aaf1c402",
        "colab": {
          "base_uri": "https://localhost:8080/"
        },
        "execution": {
          "iopub.status.busy": "2024-09-27T14:24:03.006096Z",
          "iopub.execute_input": "2024-09-27T14:24:03.006514Z",
          "iopub.status.idle": "2024-09-27T14:24:03.012636Z",
          "shell.execute_reply.started": "2024-09-27T14:24:03.006474Z",
          "shell.execute_reply": "2024-09-27T14:24:03.011678Z"
        },
        "trusted": true
      },
      "execution_count": 169,
      "outputs": [
        {
          "output_type": "execute_result",
          "data": {
            "text/plain": [
              "torch.Size([28, 28])"
            ]
          },
          "metadata": {},
          "execution_count": 169
        }
      ]
    },
    {
      "cell_type": "code",
      "source": [
        "# и размер того, что изначально скармливали нейронке.\n",
        "# тензор подобного размера надо будет скормить нейронке для предсказания\n",
        "X_test.size()\n",
        "# то есть нам нужен тензор размера [1,1,28,28]"
      ],
      "metadata": {
        "id": "mm_H-jI6Q-uY",
        "outputId": "a40f9c6f-c5c3-4c31-ae0f-c975fdfe7255",
        "colab": {
          "base_uri": "https://localhost:8080/"
        },
        "execution": {
          "iopub.status.busy": "2024-09-27T14:24:13.759329Z",
          "iopub.execute_input": "2024-09-27T14:24:13.759730Z",
          "iopub.status.idle": "2024-09-27T14:24:13.765942Z",
          "shell.execute_reply.started": "2024-09-27T14:24:13.759692Z",
          "shell.execute_reply": "2024-09-27T14:24:13.765005Z"
        },
        "trusted": true
      },
      "execution_count": 170,
      "outputs": [
        {
          "output_type": "execute_result",
          "data": {
            "text/plain": [
              "torch.Size([10000, 28, 28])"
            ]
          },
          "metadata": {},
          "execution_count": 170
        }
      ]
    },
    {
      "cell_type": "code",
      "source": [
        "# вот так сохраняют модель с помощью pickle\n",
        "import pickle\n",
        "\n",
        "with open(\"model.pickle\", \"wb\") as pickle_file:\n",
        "    pickle.dump(model, pickle_file)"
      ],
      "metadata": {
        "id": "nTaOhRqfQ-uY",
        "execution": {
          "iopub.status.busy": "2024-09-27T14:24:24.671235Z",
          "iopub.execute_input": "2024-09-27T14:24:24.671639Z",
          "iopub.status.idle": "2024-09-27T14:24:24.687408Z",
          "shell.execute_reply.started": "2024-09-27T14:24:24.671602Z",
          "shell.execute_reply": "2024-09-27T14:24:24.686505Z"
        },
        "trusted": true
      },
      "execution_count": 171,
      "outputs": []
    },
    {
      "cell_type": "code",
      "source": [
        "import torch.nn as nn\n",
        "\n",
        "# Считываем модель, сохраненную с помощью pickle\n",
        "with open(\"model.pickle\", \"rb\") as ifile:\n",
        "    modelp = pickle.load(ifile)\n",
        "\n",
        "# загружаем наше изображение\n",
        "test_data = torch.load('tensor.pt')\n",
        "\n",
        "# смотрим, что пришло из pickle файла\n",
        "print(modelp)\n"
      ],
      "metadata": {
        "id": "WXFPGZ-wQ-uY",
        "outputId": "3e12ff5a-247b-4de6-a14e-694eea9969bd",
        "colab": {
          "base_uri": "https://localhost:8080/"
        },
        "execution": {
          "iopub.status.busy": "2024-09-27T14:24:34.392671Z",
          "iopub.execute_input": "2024-09-27T14:24:34.393478Z",
          "iopub.status.idle": "2024-09-27T14:24:34.732359Z",
          "shell.execute_reply.started": "2024-09-27T14:24:34.393432Z",
          "shell.execute_reply": "2024-09-27T14:24:34.731390Z"
        },
        "trusted": true
      },
      "execution_count": 172,
      "outputs": [
        {
          "output_type": "stream",
          "name": "stdout",
          "text": [
            "SimpleCNN(\n",
            "  (conv1): Conv2d(1, 32, kernel_size=(3, 3), stride=(1, 1), padding=(1, 1))\n",
            "  (pool): MaxPool2d(kernel_size=2, stride=2, padding=0, dilation=1, ceil_mode=False)\n",
            "  (fc1): Linear(in_features=6272, out_features=10, bias=True)\n",
            ")\n"
          ]
        },
        {
          "output_type": "stream",
          "name": "stderr",
          "text": [
            "<ipython-input-172-420fb4658756>:8: FutureWarning: You are using `torch.load` with `weights_only=False` (the current default value), which uses the default pickle module implicitly. It is possible to construct malicious pickle data which will execute arbitrary code during unpickling (See https://github.com/pytorch/pytorch/blob/main/SECURITY.md#untrusted-models for more details). In a future release, the default value for `weights_only` will be flipped to `True`. This limits the functions that could be executed during unpickling. Arbitrary objects will no longer be allowed to be loaded via this mode unless they are explicitly allowlisted by the user via `torch.serialization.add_safe_globals`. We recommend you start setting `weights_only=True` for any use case where you don't have full control of the loaded file. Please open an issue on GitHub for any issues related to this experimental feature.\n",
            "  test_data = torch.load('tensor.pt')\n"
          ]
        }
      ]
    },
    {
      "cell_type": "code",
      "source": [
        "# смотрим тип модели\n",
        "type(modelp)"
      ],
      "metadata": {
        "id": "xCjwgeEtQ-uZ",
        "outputId": "e098d9c3-56d3-448a-97c9-add3189c8eaa",
        "colab": {
          "base_uri": "https://localhost:8080/",
          "height": 187
        },
        "execution": {
          "iopub.status.busy": "2024-09-27T14:24:48.497925Z",
          "iopub.execute_input": "2024-09-27T14:24:48.498856Z",
          "iopub.status.idle": "2024-09-27T14:24:48.504466Z",
          "shell.execute_reply.started": "2024-09-27T14:24:48.498812Z",
          "shell.execute_reply": "2024-09-27T14:24:48.503595Z"
        },
        "trusted": true
      },
      "execution_count": 173,
      "outputs": [
        {
          "output_type": "execute_result",
          "data": {
            "text/plain": [
              "__main__.SimpleCNN"
            ],
            "text/html": [
              "<div style=\"max-width:800px; border: 1px solid var(--colab-border-color);\"><style>\n",
              "      pre.function-repr-contents {\n",
              "        overflow-x: auto;\n",
              "        padding: 8px 12px;\n",
              "        max-height: 500px;\n",
              "      }\n",
              "\n",
              "      pre.function-repr-contents.function-repr-contents-collapsed {\n",
              "        cursor: pointer;\n",
              "        max-height: 100px;\n",
              "      }\n",
              "    </style>\n",
              "    <pre style=\"white-space: initial; background:\n",
              "         var(--colab-secondary-surface-color); padding: 8px 12px;\n",
              "         border-bottom: 1px solid var(--colab-border-color);\"><b>SimpleCNN</b><br/>def _wrapped_call_impl(*args, **kwargs)</pre><pre class=\"function-repr-contents function-repr-contents-collapsed\" style=\"\"><a class=\"filepath\" style=\"display:none\" href=\"#\"></a>Base class for all neural network modules.\n",
              "\n",
              "Your models should also subclass this class.\n",
              "\n",
              "Modules can also contain other Modules, allowing to nest them in\n",
              "a tree structure. You can assign the submodules as regular attributes::\n",
              "\n",
              "    import torch.nn as nn\n",
              "    import torch.nn.functional as F\n",
              "\n",
              "    class Model(nn.Module):\n",
              "        def __init__(self) -&gt; None:\n",
              "            super().__init__()\n",
              "            self.conv1 = nn.Conv2d(1, 20, 5)\n",
              "            self.conv2 = nn.Conv2d(20, 20, 5)\n",
              "\n",
              "        def forward(self, x):\n",
              "            x = F.relu(self.conv1(x))\n",
              "            return F.relu(self.conv2(x))\n",
              "\n",
              "Submodules assigned in this way will be registered, and will have their\n",
              "parameters converted too when you call :meth:`to`, etc.\n",
              "\n",
              ".. note::\n",
              "    As per the example above, an ``__init__()`` call to the parent class\n",
              "    must be made before assignment on the child.\n",
              "\n",
              ":ivar training: Boolean represents whether this module is in training or\n",
              "                evaluation mode.\n",
              ":vartype training: bool</pre></div>"
            ]
          },
          "metadata": {},
          "execution_count": 173
        }
      ]
    },
    {
      "cell_type": "code",
      "source": [
        "import matplotlib.pyplot as plt\n",
        "\n",
        "\n",
        "# Берем первое изображение из тестового набора\n",
        "image = X_test[0].cpu().detach()  # (1, 28, 28)\n",
        "\n",
        "# Преобразуем тензор из (C, H, W) в (H, W, C) для корректного отображения\n",
        "image = image.squeeze().numpy()  # Убираем лишний канал\n",
        "\n",
        "# Увеличиваем размер изображения для отображения\n",
        "plt.figure(figsize=(10, 10))\n",
        "\n",
        "# Отображаем изображение в нормальных цветах\n",
        "plt.imshow(image, cmap='gray')  # Используем cmap='gray' для черно-белых изображений\n",
        "plt.axis('off')  # Отключаем оси\n",
        "plt.show()\n"
      ],
      "metadata": {
        "id": "0xmtxRJjQ-uZ",
        "outputId": "74848456-8189-4dbc-d8b0-03b070325027",
        "colab": {
          "base_uri": "https://localhost:8080/",
          "height": 807
        },
        "execution": {
          "iopub.status.busy": "2024-09-27T14:29:25.254415Z",
          "iopub.execute_input": "2024-09-27T14:29:25.255156Z",
          "iopub.status.idle": "2024-09-27T14:29:25.410770Z",
          "shell.execute_reply.started": "2024-09-27T14:29:25.255117Z",
          "shell.execute_reply": "2024-09-27T14:29:25.409406Z"
        },
        "trusted": true
      },
      "execution_count": 174,
      "outputs": [
        {
          "output_type": "display_data",
          "data": {
            "text/plain": [
              "<Figure size 1000x1000 with 1 Axes>"
            ],
            "image/png": "[encoded data removed]"
          },
          "metadata": {}
        }
      ]
    },
    {
      "cell_type": "code",
      "source": [
        "# переводим входной тензор-изображение в тензор нужного нам размера\n",
        "t_data = torch.tensor([test_data.numpy()])"
      ],
      "metadata": {
        "id": "Cq2B5NuOQ-ua",
        "execution": {
          "iopub.status.busy": "2024-09-27T14:29:30.734459Z",
          "iopub.execute_input": "2024-09-27T14:29:30.734827Z",
          "iopub.status.idle": "2024-09-27T14:29:30.740975Z",
          "shell.execute_reply.started": "2024-09-27T14:29:30.734794Z",
          "shell.execute_reply": "2024-09-27T14:29:30.739942Z"
        },
        "trusted": true
      },
      "execution_count": 175,
      "outputs": []
    },
    {
      "cell_type": "code",
      "source": [
        "# проверяем\n",
        "t_data.shape"
      ],
      "metadata": {
        "id": "3bZiaGy7Q-ua",
        "outputId": "6987482e-69e0-494c-b1aa-24b3f33544e3",
        "colab": {
          "base_uri": "https://localhost:8080/"
        },
        "execution": {
          "iopub.status.busy": "2024-09-27T14:29:33.225711Z",
          "iopub.execute_input": "2024-09-27T14:29:33.226099Z",
          "iopub.status.idle": "2024-09-27T14:29:33.232325Z",
          "shell.execute_reply.started": "2024-09-27T14:29:33.226061Z",
          "shell.execute_reply": "2024-09-27T14:29:33.231367Z"
        },
        "trusted": true
      },
      "execution_count": 176,
      "outputs": [
        {
          "output_type": "execute_result",
          "data": {
            "text/plain": [
              "torch.Size([1, 28, 28])"
            ]
          },
          "metadata": {},
          "execution_count": 176
        }
      ]
    },
    {
      "cell_type": "code",
      "source": [
        "# проверяем, на чем можем считать\n",
        "dev = torch.device(\"cuda\") if torch.cuda.is_available() else torch.device(\"cpu\")\n",
        "\n",
        "# отправляем туда модель\n",
        "modelp.to(dev)\n",
        "model_data = modelp.to(dev)\n",
        "\n",
        "# тензор-изображение тоже\n",
        "t_data = t_data.to(dev)"
      ],
      "metadata": {
        "id": "FWBLH0UxQ-ua",
        "execution": {
          "iopub.status.busy": "2024-09-27T14:29:38.597158Z",
          "iopub.execute_input": "2024-09-27T14:29:38.597811Z",
          "iopub.status.idle": "2024-09-27T14:29:38.604030Z",
          "shell.execute_reply.started": "2024-09-27T14:29:38.597772Z",
          "shell.execute_reply": "2024-09-27T14:29:38.603135Z"
        },
        "trusted": true
      },
      "execution_count": 177,
      "outputs": []
    },
    {
      "cell_type": "code",
      "source": [
        "# Преобразуем данные в float32 перед отправкой в модель\n",
        "t_data = t_data.float()\n",
        "\n",
        "# Теперь делаем предсказание\n",
        "preds = modelp.forward(t_data)\n"
      ],
      "metadata": {
        "id": "7A1RwvuiQ-ub",
        "execution": {
          "iopub.status.busy": "2024-09-27T14:29:45.001820Z",
          "iopub.execute_input": "2024-09-27T14:29:45.002875Z",
          "iopub.status.idle": "2024-09-27T14:29:45.076023Z",
          "shell.execute_reply.started": "2024-09-27T14:29:45.002821Z",
          "shell.execute_reply": "2024-09-27T14:29:45.075264Z"
        },
        "trusted": true
      },
      "execution_count": 178,
      "outputs": []
    },
    {
      "cell_type": "code",
      "source": [
        "# в каком виде получаем предсказание. Это вектор 10x1 с вероятностями принадлежности объекта к определенному классу\n",
        "print(preds)"
      ],
      "metadata": {
        "id": "m0wGhSX6Q-ub",
        "outputId": "a522ae4d-45f2-4d46-9293-7c5a1c6aeba4",
        "colab": {
          "base_uri": "https://localhost:8080/"
        },
        "execution": {
          "iopub.status.busy": "2024-09-27T14:29:47.514519Z",
          "iopub.execute_input": "2024-09-27T14:29:47.514908Z",
          "iopub.status.idle": "2024-09-27T14:29:47.705495Z",
          "shell.execute_reply.started": "2024-09-27T14:29:47.514873Z",
          "shell.execute_reply": "2024-09-27T14:29:47.704542Z"
        },
        "trusted": true
      },
      "execution_count": 179,
      "outputs": [
        {
          "output_type": "stream",
          "name": "stdout",
          "text": [
            "tensor([[ -6105.6172, -12200.4648,  -7819.2422, -10118.0488,  -6549.2715,\n",
            "          -3247.2571,  -3292.0139,  -2248.6445,  -1855.9467,   5040.4336]],\n",
            "       device='cuda:0', grad_fn=<AddmmBackward0>)\n"
          ]
        }
      ]
    },
    {
      "cell_type": "code",
      "source": [
        "# выбираем максимальную вероятность, как результат предсказания.\n",
        "# Не забывая отправить на cpu\n",
        "prediction = np.argmax(preds.to('cpu').detach().numpy(),axis=1)"
      ],
      "metadata": {
        "id": "dXSA9_ZkQ-ub",
        "execution": {
          "iopub.status.busy": "2024-09-27T14:29:56.580140Z",
          "iopub.execute_input": "2024-09-27T14:29:56.580879Z",
          "iopub.status.idle": "2024-09-27T14:29:56.587381Z",
          "shell.execute_reply.started": "2024-09-27T14:29:56.580840Z",
          "shell.execute_reply": "2024-09-27T14:29:56.586565Z"
        },
        "trusted": true
      },
      "execution_count": 180,
      "outputs": []
    },
    {
      "cell_type": "code",
      "source": [
        "labels_dict = {\n",
        "    0: 'T-shirt/top',\n",
        "    1: 'Trouser',\n",
        "    2: 'Pullover',\n",
        "    3: 'Dress',\n",
        "    4: 'Coat',\n",
        "    5: 'Sandal',\n",
        "    6: 'Shirt',\n",
        "    7: 'Sneaker',\n",
        "    8: 'Bag',\n",
        "    9: 'Ankle boot'\n",
        "}"
      ],
      "metadata": {
        "execution": {
          "iopub.status.busy": "2024-09-27T14:32:49.272706Z",
          "iopub.execute_input": "2024-09-27T14:32:49.273389Z",
          "iopub.status.idle": "2024-09-27T14:32:49.278594Z",
          "shell.execute_reply.started": "2024-09-27T14:32:49.273346Z",
          "shell.execute_reply": "2024-09-27T14:32:49.277664Z"
        },
        "trusted": true,
        "id": "wfmGzYpcUyIl"
      },
      "execution_count": 181,
      "outputs": []
    },
    {
      "cell_type": "code",
      "source": [
        "type(prediction)"
      ],
      "metadata": {
        "execution": {
          "iopub.status.busy": "2024-09-27T14:33:56.143872Z",
          "iopub.execute_input": "2024-09-27T14:33:56.144248Z",
          "iopub.status.idle": "2024-09-27T14:33:56.150752Z",
          "shell.execute_reply.started": "2024-09-27T14:33:56.144209Z",
          "shell.execute_reply": "2024-09-27T14:33:56.149784Z"
        },
        "trusted": true,
        "colab": {
          "base_uri": "https://localhost:8080/"
        },
        "id": "ZjsoXQEGUyIl",
        "outputId": "a6428af4-28da-493d-a910-56a337956ba3"
      },
      "execution_count": 182,
      "outputs": [
        {
          "output_type": "execute_result",
          "data": {
            "text/plain": [
              "numpy.ndarray"
            ]
          },
          "metadata": {},
          "execution_count": 182
        }
      ]
    },
    {
      "cell_type": "code",
      "source": [
        "# Выводим предсказанные классы с их названиями\n",
        "for pred in prediction:\n",
        "    print(f\"Prediction: {pred}, Label: {labels_dict.get(pred, 'Unknown class')}\")"
      ],
      "metadata": {
        "id": "RBFZORj7Q-ug",
        "outputId": "9f4038ab-321f-4334-cf30-f6b374ee342a",
        "colab": {
          "base_uri": "https://localhost:8080/"
        },
        "execution": {
          "iopub.status.busy": "2024-09-27T14:37:03.936051Z",
          "iopub.execute_input": "2024-09-27T14:37:03.936551Z",
          "iopub.status.idle": "2024-09-27T14:37:03.941642Z",
          "shell.execute_reply.started": "2024-09-27T14:37:03.936512Z",
          "shell.execute_reply": "2024-09-27T14:37:03.940705Z"
        },
        "trusted": true
      },
      "execution_count": 183,
      "outputs": [
        {
          "output_type": "stream",
          "name": "stdout",
          "text": [
            "Prediction: 9, Label: Ankle boot\n"
          ]
        }
      ]
    },
    {
      "cell_type": "markdown",
      "source": [
        "**ботильоны предсказаны верно.**\n"
      ],
      "metadata": {
        "id": "-6jMJkDZQ-ug"
      }
    }
  ]
}